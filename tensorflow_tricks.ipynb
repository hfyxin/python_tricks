{
 "cells": [
  {
   "cell_type": "markdown",
   "metadata": {},
   "source": [
    "A notebook for those useful, but easily forgetable tensorflow tricks. Only applicable for tf 2.x"
   ]
  },
  {
   "cell_type": "code",
   "execution_count": 1,
   "metadata": {},
   "outputs": [],
   "source": [
    "# tensorflow 2.x\n",
    "import tensorflow as tf"
   ]
  },
  {
   "cell_type": "markdown",
   "metadata": {},
   "source": [
    "# Altering tensor shape\n",
    "It is tempting to just use tf.reshape. But be careful! ```tf.reshape``` can mess up with the data.\n",
    "\n",
    "**Rule of thumb**\n",
    "- ```tf.transpose```: Just want to swap dimensions, and input dims = output dims.\n",
    "- ```tf.squeeze```: Drop one dimension (whose value is 1).\n",
    "- ```tf.expand_dims```: Add one dimension (whose value is 1).\n",
    "- ```tf.reshape```: if all above not applicable."
   ]
  },
  {
   "cell_type": "code",
   "execution_count": 11,
   "metadata": {},
   "outputs": [
    {
     "name": "stdout",
     "output_type": "stream",
     "text": [
      "tf.Tensor(\n",
      "[[[1 2 3]\n",
      "  [4 5 6]]], shape=(1, 2, 3), dtype=int32)\n"
     ]
    },
    {
     "data": {
      "text/plain": [
       "<tf.Tensor: id=26, shape=(1, 3, 2), dtype=int32, numpy=\n",
       "array([[[1, 4],\n",
       "        [2, 5],\n",
       "        [3, 6]]])>"
      ]
     },
     "execution_count": 11,
     "metadata": {},
     "output_type": "execute_result"
    }
   ],
   "source": [
    "# Transpose (permute) the given dimensions\n",
    "x = tf.constant([[[1, 2, 3], [4, 5, 6]]])\n",
    "print(x)\n",
    "tf.transpose(x, perm=[0,2,1])"
   ]
  },
  {
   "cell_type": "code",
   "execution_count": 16,
   "metadata": {},
   "outputs": [
    {
     "name": "stdout",
     "output_type": "stream",
     "text": [
      "tf.Tensor(\n",
      "[[[1 2 3]\n",
      "  [4 5 6]]], shape=(1, 2, 3), dtype=int32)\n",
      "\n",
      "After squeeze: tf.Tensor(\n",
      "[[1 2 3]\n",
      " [4 5 6]], shape=(2, 3), dtype=int32)\n",
      "\n",
      "After expand: tf.Tensor(\n",
      "[[[1 2 3]\n",
      "  [4 5 6]]], shape=(1, 2, 3), dtype=int32)\n"
     ]
    }
   ],
   "source": [
    "# Add / remove 1 dimension\n",
    "x = tf.constant([[[1, 2, 3], [4, 5, 6]]])\n",
    "print(x)\n",
    "sqz = tf.squeeze(x, axis=[0])\n",
    "print('\\nAfter squeeze:', sqz)\n",
    "xpd = tf.expand_dims(sqz, axis=0)\n",
    "print('\\nAfter expand:', xpd)"
   ]
  },
  {
   "cell_type": "code",
   "execution_count": 9,
   "metadata": {},
   "outputs": [
    {
     "name": "stdout",
     "output_type": "stream",
     "text": [
      "tf.Tensor(\n",
      "[[[1 2 3]\n",
      "  [4 5 6]]], shape=(1, 2, 3), dtype=int32)\n"
     ]
    },
    {
     "data": {
      "text/plain": [
       "<tf.Tensor: id=22, shape=(1, 3, 2), dtype=int32, numpy=\n",
       "array([[[1, 2],\n",
       "        [3, 4],\n",
       "        [5, 6]]])>"
      ]
     },
     "execution_count": 9,
     "metadata": {},
     "output_type": "execute_result"
    }
   ],
   "source": [
    "# reshape, note the output is NOT a transpose.\n",
    "x = tf.constant([[[1, 2, 3], [4, 5, 6]]])\n",
    "print(x)\n",
    "tf.reshape(x, shape=(1,3,2))"
   ]
  }
 ],
 "metadata": {
  "kernelspec": {
   "display_name": "Python 3",
   "language": "python",
   "name": "python3"
  },
  "language_info": {
   "codemirror_mode": {
    "name": "ipython",
    "version": 3
   },
   "file_extension": ".py",
   "mimetype": "text/x-python",
   "name": "python",
   "nbconvert_exporter": "python",
   "pygments_lexer": "ipython3",
   "version": "3.6.9"
  }
 },
 "nbformat": 4,
 "nbformat_minor": 2
}
